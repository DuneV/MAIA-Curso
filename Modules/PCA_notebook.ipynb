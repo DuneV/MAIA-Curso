{
 "cells": [
  {
   "cell_type": "markdown",
   "id": "d608c2bf",
   "metadata": {},
   "source": [
    "# Análisis de Componentes Principales (PCA)"
   ]
  },
  {
   "cell_type": "markdown",
   "id": "0135b326",
   "metadata": {},
   "source": [
    "## Introducción\n",
    "El Análisis de Componentes Principales (PCA) es una técnica estadística utilizada para simplificar un conjunto de datos reduciendo su dimensionalidad."
   ]
  },
  {
   "cell_type": "markdown",
   "id": "21b350ec",
   "metadata": {},
   "source": [
    "## Explicación Teórica\n",
    "PCA encuentra nuevas variables (componentes principales) que son combinaciones lineales de las variables originales y que explican la mayor parte de la varianza en los datos."
   ]
  },
  {
   "cell_type": "markdown",
   "id": "78ef2fe5",
   "metadata": {},
   "source": [
    "## Pasos del Algoritmo PCA\n",
    "1. Estándarizar los datos\n",
    "2. Calcular la matriz de covarianza\n",
    "3. Obtener los eigenvalores y eigenvectores\n",
    "4. Seleccionar las componentes principales\n",
    "5. Proyectar los datos"
   ]
  },
  {
   "cell_type": "code",
   "execution_count": null,
   "id": "bb81f59a",
   "metadata": {},
   "outputs": [],
   "source": [
    "# Importación de bibliotecas necesarias\n",
    "import numpy as np\n",
    "import pandas as pd\n",
    "from sklearn.preprocessing import StandardScaler\n",
    "import matplotlib.pyplot as plt"
   ]
  },
  {
   "cell_type": "code",
   "execution_count": null,
   "id": "2dc24d69",
   "metadata": {},
   "outputs": [],
   "source": [
    "# Carga y preprocesamiento de datos\n",
    "data = pd.read_excel(r'..\\Data\\front.xlsx')\n",
    "features = data.columns[:-1]\n",
    "X = data[features]\n",
    "X = StandardScaler().fit_transform(X)"
   ]
  },
  {
   "cell_type": "code",
   "execution_count": null,
   "id": "75b18bc2",
   "metadata": {},
   "outputs": [],
   "source": [
    "# Cálculo de la media y la matriz de covarianza\n",
    "mean_vec = np.mean(X, axis=0)\n",
    "cov_mat = np.cov(X.T)"
   ]
  },
  {
   "cell_type": "code",
   "execution_count": null,
   "id": "7792bca6",
   "metadata": {},
   "outputs": [],
   "source": [
    "# Cálculo de los eigenvalores y eigenvectores\n",
    "eigen_vals, eigen_vecs = np.linalg.eig(cov_mat)"
   ]
  },
  {
   "cell_type": "code",
   "execution_count": null,
   "id": "e812cbba",
   "metadata": {},
   "outputs": [],
   "source": [
    "# Selección de componentes principales\n",
    "# Ordenar los eigenvalores y eigenvectores\n",
    "eigen_pairs = [(np.abs(eigen_vals[i]), eigen_vecs[:,i]) for i in range(len(eigen_vals))]\n",
    "eigen_pairs.sort(key=lambda x: x[0], reverse=True)\n",
    "\n",
    "# Seleccionar las k componentes principales\n",
    "k = 2\n",
    "W = np.hstack([eigen_pairs[i][1].reshape(-1,1) for i in range(k)])"
   ]
  },
  {
   "cell_type": "code",
   "execution_count": null,
   "id": "f69ece04",
   "metadata": {},
   "outputs": [],
   "source": [
    "# Proyección de los datos a las componentes principales\n",
    "X_pca = X.dot(W)"
   ]
  },
  {
   "cell_type": "code",
   "execution_count": null,
   "id": "c5eca6b1",
   "metadata": {},
   "outputs": [],
   "source": [
    "# Visualización de resultados\n",
    "plt.scatter(X_pca[:, 0], X_pca[:, 1])\n",
    "plt.xlabel('Componente Principal 1')\n",
    "plt.ylabel('Componente Principal 2')\n",
    "plt.title('Proyección de los datos en las primeras dos componentes principales')\n",
    "plt.show()"
   ]
  }
 ],
 "metadata": {
  "language_info": {
   "name": "python"
  }
 },
 "nbformat": 4,
 "nbformat_minor": 5
}
